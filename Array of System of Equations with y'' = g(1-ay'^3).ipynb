import pylab as pl
from scipy import integrate as integrate
import numpy as np

# a)

def f1(y, t, a=1., g=9.80665):
    return [y[1], g*(1. - a*y[0]**3)]


y1 = [0.1, 0.] # initial conditions - [displacement, velocity]
y2 = [0.9, 0.]
t = np.linspace(0,2.5,1000) # from 0 < t < 2.5

# Integrate the ODE
I1a = integrate.odeint(f1,y1,t) # this gives back vector of [y, y']
I2a = integrate.odeint(f1,y2,t)

# Plotting the graph
pl.plot(t, I1a[:,0], label='y0 = 0.1m') # in this case we want y, so call I[:,0]
pl.plot(t, I2a[:,0], label='y0 = 0.9m')
pl.legend(loc='best')
pl.xlabel('Time(s)')
pl.ylabel('Displacement(m)')

pl.grid()
pl.show()

"""
"The estimated time period (T) and Amplitude (A) is then: 

T(y0=0.1) = 1.4s   ,   A(y0=0.1) = 0.7m 
T(y0=0.9) = 1.2s   ,   A(y0=0.9) = 0.1m

The initial displacements does not really have an effect on the time period and if it does it is only marginal.
The smaller the initial position the smaller the amplitude.
"""

# b)

def f2(y, t, a=1., g=9.80665):
    return [y[1], g*(1. - a*y[0])]

# Same conditions as before

# integrate the ODE
I1b = integrate.odeint(f2,y1,t)
I2b = integrate.odeint(f2,y2,t)

# Plotting the graph
pl.plot(t, I1b[:,0], 'b', label='y0 = 0.1m')
pl.plot(t, I2b[:,0], 'g', label='y0 = 0.9m')
pl.legend(loc='best')
pl.xlabel('Time(s)')
pl.ylabel('Displacement(m)')

pl.grid()
pl.show()

"""
The time period (T) and Amplitude (A) is then: 
T(y0=0.1) = 2.0s   ,   A(y0=0.1) = 0.9m 
T(y0=0.9) = 2.0s   ,   A(y0=0.9) = 0.1m
"""

# c)

# Plotting the graphs:

pl.plot(I1a[:,1], I1a[:,0], label='y0 = 0.1m') # I[:,1] gives derivative, I[:,0] gives function
pl.plot(I2a[:,1], I2a[:,0], label='y0 = 0.9m')
pl.xlabel('Distance(m)')
pl.ylabel('Velcity(m/s)')
pl.legend(loc='best')
pl.title('part (a)')
pl.axis('equal')
pl.grid()
pl.show()


pl.plot(I1b[:,1], I1b[:,0], label='y0 = 0.1m') # I[:,1] gives derivative, I[:,0] gives function
pl.plot(I2b[:,1], I2b[:,0], label='y0 = 0.9m')
pl.xlabel('Distance(m)')
pl.ylabel('Velcity(m/s)')
pl.legend(loc='best')
pl.title('part (b)')
pl.axis('equal')
pl.grid()
pl.show()

"""
Discuss: 

The linear version for both initial conditions has a greater maximum velocity in comparison but also has a smaller amplitude.
The oscillating effect is coursed by the buoyant force acting on the float. Fb = egV , as the graviational force acts downwards 
and the float sinks, and so the volume of the float submerged increases, increasing the buoyant force acting upwards, so the 
float begins to rise. 
"""
